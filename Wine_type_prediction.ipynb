{
  "nbformat": 4,
  "nbformat_minor": 0,
  "metadata": {
    "colab": {
      "provenance": [],
      "gpuType": "T4",
      "authorship_tag": "ABX9TyM3H55p/mxjiyJysY2Vpggb",
      "include_colab_link": true
    },
    "kernelspec": {
      "name": "python3",
      "display_name": "Python 3"
    },
    "language_info": {
      "name": "python"
    },
    "accelerator": "GPU"
  },
  "cells": [
    {
      "cell_type": "markdown",
      "metadata": {
        "id": "view-in-github",
        "colab_type": "text"
      },
      "source": [
        "<a href=\"https://colab.research.google.com/github/Akshayrajnadar/Wine_quality_prediction/blob/master/Wine_type_prediction.ipynb\" target=\"_parent\"><img src=\"https://colab.research.google.com/assets/colab-badge.svg\" alt=\"Open In Colab\"/></a>"
      ]
    },
    {
      "cell_type": "markdown",
      "source": [
        "# Prediction of Wine type\n",
        "The wine dataset you mentioned consists of 13 parameters that describe different characteristics of the wine. These parameters are used to predict the quality of the wine, which is categorized into two types: white wine and red wine. Here's a description of the 13 parameters typically found in the wine dataset:\n",
        "\n",
        "1. Fixed Acidity: The amount of fixed acids in the wine, which contributes to its overall acidity.\n",
        "2. Volatile Acidity: The amount of volatile acids in the wine, which can contribute to undesirable vinegar-like flavors.\n",
        "3. Citric Acid: The amount of citric acid present in the wine, which can add freshness and tartness.\n",
        "4. Residual Sugar: The amount of sugar remaining after fermentation, which impacts the wine's sweetness.\n",
        "5. Chlorides: The amount of salt or chloride present in the wine.\n",
        "6. Free Sulfur Dioxide: The concentration of sulfur dioxide that is not bound to other compounds, which acts as a preservative and antimicrobial agent.\n",
        "7. Total Sulfur Dioxide: The total concentration of sulfur dioxide in the wine, including both free and bound forms.\n",
        "8. Density: The density of the wine, which is influenced by factors like alcohol content and sugar concentration.\n",
        "9. pH: The measurement of acidity or alkalinity of the wine on a logarithmic scale.\n",
        "10. Sulphates: The amount of sulphates present in the wine, which can contribute to its preservation and antioxidant properties.\n",
        "11. Alcohol: The percentage of alcohol content in the wine.\n",
        "12. Quality: The quality of the wine, typically rated on a scale of 1 to 10 (with higher values indicating better quality).\n",
        "13. Type: The type of wine, categorized as either white or red.\n",
        "\n"
      ],
      "metadata": {
        "id": "rCsfChrWDVMq"
      }
    },
    {
      "cell_type": "code",
      "execution_count": 1,
      "metadata": {
        "id": "7x2Ob3mlqjKL"
      },
      "outputs": [],
      "source": [
        "import numpy as np\n",
        "import pandas as pd\n",
        "\n",
        "from sklearn.model_selection import train_test_split\n",
        "from tensorflow.keras import datasets, layers, models\n",
        "from keras.layers import Dense, Input\n",
        "from keras.utils import np_utils\n",
        "import matplotlib.pyplot as plt\n",
        "import seaborn as sns"
      ]
    },
    {
      "cell_type": "markdown",
      "source": [
        "# Importing dataser using pandas"
      ],
      "metadata": {
        "id": "Uu58AWAwEt0C"
      }
    },
    {
      "cell_type": "code",
      "source": [
        "data =  pd.read_csv('/content/winequalityN.csv')\n",
        "data.head()"
      ],
      "metadata": {
        "colab": {
          "base_uri": "https://localhost:8080/",
          "height": 206
        },
        "id": "Ir-dDMFCrASc",
        "outputId": "d2332678-aeba-4429-bcc6-131e2fa790d1"
      },
      "execution_count": 2,
      "outputs": [
        {
          "output_type": "execute_result",
          "data": {
            "text/plain": [
              "    type  fixed acidity  volatile acidity  citric acid  residual sugar  \\\n",
              "0  white            7.0              0.27         0.36            20.7   \n",
              "1  white            6.3              0.30         0.34             1.6   \n",
              "2  white            8.1              0.28         0.40             6.9   \n",
              "3  white            7.2              0.23         0.32             8.5   \n",
              "4  white            7.2              0.23         0.32             8.5   \n",
              "\n",
              "   chlorides  free sulfur dioxide  total sulfur dioxide  density    pH  \\\n",
              "0      0.045                 45.0                 170.0   1.0010  3.00   \n",
              "1      0.049                 14.0                 132.0   0.9940  3.30   \n",
              "2      0.050                 30.0                  97.0   0.9951  3.26   \n",
              "3      0.058                 47.0                 186.0   0.9956  3.19   \n",
              "4      0.058                 47.0                 186.0   0.9956  3.19   \n",
              "\n",
              "   sulphates  alcohol  quality  \n",
              "0       0.45      8.8        6  \n",
              "1       0.49      9.5        6  \n",
              "2       0.44     10.1        6  \n",
              "3       0.40      9.9        6  \n",
              "4       0.40      9.9        6  "
            ],
            "text/html": [
              "\n",
              "  <div id=\"df-0f8855e8-9213-45a5-a134-f817c056fe26\">\n",
              "    <div class=\"colab-df-container\">\n",
              "      <div>\n",
              "<style scoped>\n",
              "    .dataframe tbody tr th:only-of-type {\n",
              "        vertical-align: middle;\n",
              "    }\n",
              "\n",
              "    .dataframe tbody tr th {\n",
              "        vertical-align: top;\n",
              "    }\n",
              "\n",
              "    .dataframe thead th {\n",
              "        text-align: right;\n",
              "    }\n",
              "</style>\n",
              "<table border=\"1\" class=\"dataframe\">\n",
              "  <thead>\n",
              "    <tr style=\"text-align: right;\">\n",
              "      <th></th>\n",
              "      <th>type</th>\n",
              "      <th>fixed acidity</th>\n",
              "      <th>volatile acidity</th>\n",
              "      <th>citric acid</th>\n",
              "      <th>residual sugar</th>\n",
              "      <th>chlorides</th>\n",
              "      <th>free sulfur dioxide</th>\n",
              "      <th>total sulfur dioxide</th>\n",
              "      <th>density</th>\n",
              "      <th>pH</th>\n",
              "      <th>sulphates</th>\n",
              "      <th>alcohol</th>\n",
              "      <th>quality</th>\n",
              "    </tr>\n",
              "  </thead>\n",
              "  <tbody>\n",
              "    <tr>\n",
              "      <th>0</th>\n",
              "      <td>white</td>\n",
              "      <td>7.0</td>\n",
              "      <td>0.27</td>\n",
              "      <td>0.36</td>\n",
              "      <td>20.7</td>\n",
              "      <td>0.045</td>\n",
              "      <td>45.0</td>\n",
              "      <td>170.0</td>\n",
              "      <td>1.0010</td>\n",
              "      <td>3.00</td>\n",
              "      <td>0.45</td>\n",
              "      <td>8.8</td>\n",
              "      <td>6</td>\n",
              "    </tr>\n",
              "    <tr>\n",
              "      <th>1</th>\n",
              "      <td>white</td>\n",
              "      <td>6.3</td>\n",
              "      <td>0.30</td>\n",
              "      <td>0.34</td>\n",
              "      <td>1.6</td>\n",
              "      <td>0.049</td>\n",
              "      <td>14.0</td>\n",
              "      <td>132.0</td>\n",
              "      <td>0.9940</td>\n",
              "      <td>3.30</td>\n",
              "      <td>0.49</td>\n",
              "      <td>9.5</td>\n",
              "      <td>6</td>\n",
              "    </tr>\n",
              "    <tr>\n",
              "      <th>2</th>\n",
              "      <td>white</td>\n",
              "      <td>8.1</td>\n",
              "      <td>0.28</td>\n",
              "      <td>0.40</td>\n",
              "      <td>6.9</td>\n",
              "      <td>0.050</td>\n",
              "      <td>30.0</td>\n",
              "      <td>97.0</td>\n",
              "      <td>0.9951</td>\n",
              "      <td>3.26</td>\n",
              "      <td>0.44</td>\n",
              "      <td>10.1</td>\n",
              "      <td>6</td>\n",
              "    </tr>\n",
              "    <tr>\n",
              "      <th>3</th>\n",
              "      <td>white</td>\n",
              "      <td>7.2</td>\n",
              "      <td>0.23</td>\n",
              "      <td>0.32</td>\n",
              "      <td>8.5</td>\n",
              "      <td>0.058</td>\n",
              "      <td>47.0</td>\n",
              "      <td>186.0</td>\n",
              "      <td>0.9956</td>\n",
              "      <td>3.19</td>\n",
              "      <td>0.40</td>\n",
              "      <td>9.9</td>\n",
              "      <td>6</td>\n",
              "    </tr>\n",
              "    <tr>\n",
              "      <th>4</th>\n",
              "      <td>white</td>\n",
              "      <td>7.2</td>\n",
              "      <td>0.23</td>\n",
              "      <td>0.32</td>\n",
              "      <td>8.5</td>\n",
              "      <td>0.058</td>\n",
              "      <td>47.0</td>\n",
              "      <td>186.0</td>\n",
              "      <td>0.9956</td>\n",
              "      <td>3.19</td>\n",
              "      <td>0.40</td>\n",
              "      <td>9.9</td>\n",
              "      <td>6</td>\n",
              "    </tr>\n",
              "  </tbody>\n",
              "</table>\n",
              "</div>\n",
              "      <button class=\"colab-df-convert\" onclick=\"convertToInteractive('df-0f8855e8-9213-45a5-a134-f817c056fe26')\"\n",
              "              title=\"Convert this dataframe to an interactive table.\"\n",
              "              style=\"display:none;\">\n",
              "        \n",
              "  <svg xmlns=\"http://www.w3.org/2000/svg\" height=\"24px\"viewBox=\"0 0 24 24\"\n",
              "       width=\"24px\">\n",
              "    <path d=\"M0 0h24v24H0V0z\" fill=\"none\"/>\n",
              "    <path d=\"M18.56 5.44l.94 2.06.94-2.06 2.06-.94-2.06-.94-.94-2.06-.94 2.06-2.06.94zm-11 1L8.5 8.5l.94-2.06 2.06-.94-2.06-.94L8.5 2.5l-.94 2.06-2.06.94zm10 10l.94 2.06.94-2.06 2.06-.94-2.06-.94-.94-2.06-.94 2.06-2.06.94z\"/><path d=\"M17.41 7.96l-1.37-1.37c-.4-.4-.92-.59-1.43-.59-.52 0-1.04.2-1.43.59L10.3 9.45l-7.72 7.72c-.78.78-.78 2.05 0 2.83L4 21.41c.39.39.9.59 1.41.59.51 0 1.02-.2 1.41-.59l7.78-7.78 2.81-2.81c.8-.78.8-2.07 0-2.86zM5.41 20L4 18.59l7.72-7.72 1.47 1.35L5.41 20z\"/>\n",
              "  </svg>\n",
              "      </button>\n",
              "      \n",
              "  <style>\n",
              "    .colab-df-container {\n",
              "      display:flex;\n",
              "      flex-wrap:wrap;\n",
              "      gap: 12px;\n",
              "    }\n",
              "\n",
              "    .colab-df-convert {\n",
              "      background-color: #E8F0FE;\n",
              "      border: none;\n",
              "      border-radius: 50%;\n",
              "      cursor: pointer;\n",
              "      display: none;\n",
              "      fill: #1967D2;\n",
              "      height: 32px;\n",
              "      padding: 0 0 0 0;\n",
              "      width: 32px;\n",
              "    }\n",
              "\n",
              "    .colab-df-convert:hover {\n",
              "      background-color: #E2EBFA;\n",
              "      box-shadow: 0px 1px 2px rgba(60, 64, 67, 0.3), 0px 1px 3px 1px rgba(60, 64, 67, 0.15);\n",
              "      fill: #174EA6;\n",
              "    }\n",
              "\n",
              "    [theme=dark] .colab-df-convert {\n",
              "      background-color: #3B4455;\n",
              "      fill: #D2E3FC;\n",
              "    }\n",
              "\n",
              "    [theme=dark] .colab-df-convert:hover {\n",
              "      background-color: #434B5C;\n",
              "      box-shadow: 0px 1px 3px 1px rgba(0, 0, 0, 0.15);\n",
              "      filter: drop-shadow(0px 1px 2px rgba(0, 0, 0, 0.3));\n",
              "      fill: #FFFFFF;\n",
              "    }\n",
              "  </style>\n",
              "\n",
              "      <script>\n",
              "        const buttonEl =\n",
              "          document.querySelector('#df-0f8855e8-9213-45a5-a134-f817c056fe26 button.colab-df-convert');\n",
              "        buttonEl.style.display =\n",
              "          google.colab.kernel.accessAllowed ? 'block' : 'none';\n",
              "\n",
              "        async function convertToInteractive(key) {\n",
              "          const element = document.querySelector('#df-0f8855e8-9213-45a5-a134-f817c056fe26');\n",
              "          const dataTable =\n",
              "            await google.colab.kernel.invokeFunction('convertToInteractive',\n",
              "                                                     [key], {});\n",
              "          if (!dataTable) return;\n",
              "\n",
              "          const docLinkHtml = 'Like what you see? Visit the ' +\n",
              "            '<a target=\"_blank\" href=https://colab.research.google.com/notebooks/data_table.ipynb>data table notebook</a>'\n",
              "            + ' to learn more about interactive tables.';\n",
              "          element.innerHTML = '';\n",
              "          dataTable['output_type'] = 'display_data';\n",
              "          await google.colab.output.renderOutput(dataTable, element);\n",
              "          const docLink = document.createElement('div');\n",
              "          docLink.innerHTML = docLinkHtml;\n",
              "          element.appendChild(docLink);\n",
              "        }\n",
              "      </script>\n",
              "    </div>\n",
              "  </div>\n",
              "  "
            ]
          },
          "metadata": {},
          "execution_count": 2
        }
      ]
    },
    {
      "cell_type": "code",
      "source": [
        "data.shape"
      ],
      "metadata": {
        "colab": {
          "base_uri": "https://localhost:8080/"
        },
        "id": "nWHYPuocrGsD",
        "outputId": "bf6257c9-459d-47d4-b5fd-f016fcad5394"
      },
      "execution_count": 3,
      "outputs": [
        {
          "output_type": "execute_result",
          "data": {
            "text/plain": [
              "(6497, 13)"
            ]
          },
          "metadata": {},
          "execution_count": 3
        }
      ]
    },
    {
      "cell_type": "markdown",
      "source": [
        "# Creating Input data\n",
        "After generating the input data, it has come to our attention that there are missing values present. To address this issue, we have explored two potential solutions: utilizing the fillna() function to replace the null values with zeros, or opting to remove the entire row containing the missing value by employing dropna(). After careful evaluation, it has been determined that both approaches yield comparable accuracy results. Therefore, we have the flexibility to choose either method for our model."
      ],
      "metadata": {
        "id": "FOpYlfzsEzEP"
      }
    },
    {
      "cell_type": "code",
      "source": [
        "X = data.drop('type', axis=1)\n",
        "X = X.fillna(0)\n",
        "print(X)"
      ],
      "metadata": {
        "colab": {
          "base_uri": "https://localhost:8080/"
        },
        "id": "6kGkw7otrK8r",
        "outputId": "4941f8f1-9e47-47db-ef86-b7b7850e14cd"
      },
      "execution_count": 4,
      "outputs": [
        {
          "output_type": "stream",
          "name": "stdout",
          "text": [
            "      fixed acidity  volatile acidity  citric acid  residual sugar  chlorides  \\\n",
            "0               7.0             0.270         0.36            20.7      0.045   \n",
            "1               6.3             0.300         0.34             1.6      0.049   \n",
            "2               8.1             0.280         0.40             6.9      0.050   \n",
            "3               7.2             0.230         0.32             8.5      0.058   \n",
            "4               7.2             0.230         0.32             8.5      0.058   \n",
            "...             ...               ...          ...             ...        ...   \n",
            "6492            6.2             0.600         0.08             2.0      0.090   \n",
            "6493            5.9             0.550         0.10             2.2      0.062   \n",
            "6494            6.3             0.510         0.13             2.3      0.076   \n",
            "6495            5.9             0.645         0.12             2.0      0.075   \n",
            "6496            6.0             0.310         0.47             3.6      0.067   \n",
            "\n",
            "      free sulfur dioxide  total sulfur dioxide  density    pH  sulphates  \\\n",
            "0                    45.0                 170.0  1.00100  3.00       0.45   \n",
            "1                    14.0                 132.0  0.99400  3.30       0.49   \n",
            "2                    30.0                  97.0  0.99510  3.26       0.44   \n",
            "3                    47.0                 186.0  0.99560  3.19       0.40   \n",
            "4                    47.0                 186.0  0.99560  3.19       0.40   \n",
            "...                   ...                   ...      ...   ...        ...   \n",
            "6492                 32.0                  44.0  0.99490  3.45       0.58   \n",
            "6493                 39.0                  51.0  0.99512  3.52       0.00   \n",
            "6494                 29.0                  40.0  0.99574  3.42       0.75   \n",
            "6495                 32.0                  44.0  0.99547  3.57       0.71   \n",
            "6496                 18.0                  42.0  0.99549  3.39       0.66   \n",
            "\n",
            "      alcohol  quality  \n",
            "0         8.8        6  \n",
            "1         9.5        6  \n",
            "2        10.1        6  \n",
            "3         9.9        6  \n",
            "4         9.9        6  \n",
            "...       ...      ...  \n",
            "6492     10.5        5  \n",
            "6493     11.2        6  \n",
            "6494     11.0        6  \n",
            "6495     10.2        5  \n",
            "6496     11.0        6  \n",
            "\n",
            "[6497 rows x 12 columns]\n"
          ]
        }
      ]
    },
    {
      "cell_type": "code",
      "source": [
        "sns.heatmap(X.isnull())"
      ],
      "metadata": {
        "colab": {
          "base_uri": "https://localhost:8080/",
          "height": 571
        },
        "id": "pamGFcOPFcpj",
        "outputId": "88501f94-546e-4b62-f9fc-b5f576989d48"
      },
      "execution_count": 5,
      "outputs": [
        {
          "output_type": "execute_result",
          "data": {
            "text/plain": [
              "<Axes: >"
            ]
          },
          "metadata": {},
          "execution_count": 5
        },
        {
          "output_type": "display_data",
          "data": {
            "text/plain": [
              "<Figure size 640x480 with 2 Axes>"
            ],
            "image/png": "[encoded data removed]"
          },
          "metadata": {}
        }
      ]
    },
    {
      "cell_type": "markdown",
      "source": [
        "# Creating output data"
      ],
      "metadata": {
        "id": "jjSbfXnqJxYH"
      }
    },
    {
      "cell_type": "code",
      "source": [
        "Y = data['type']\n",
        "Y = Y.map({'white': 0, 'red': 1}).astype(str).astype(int)\n",
        "print(Y)"
      ],
      "metadata": {
        "colab": {
          "base_uri": "https://localhost:8080/"
        },
        "id": "54hFozT9rb0o",
        "outputId": "b9064a50-cb49-42e7-90a7-6465953c43a1"
      },
      "execution_count": 6,
      "outputs": [
        {
          "output_type": "stream",
          "name": "stdout",
          "text": [
            "0       0\n",
            "1       0\n",
            "2       0\n",
            "3       0\n",
            "4       0\n",
            "       ..\n",
            "6492    1\n",
            "6493    1\n",
            "6494    1\n",
            "6495    1\n",
            "6496    1\n",
            "Name: type, Length: 6497, dtype: int64\n"
          ]
        }
      ]
    },
    {
      "cell_type": "markdown",
      "source": [
        "# Splitting the data into training and testing data"
      ],
      "metadata": {
        "id": "9_EJxUIuJ2PJ"
      }
    },
    {
      "cell_type": "code",
      "source": [
        "X_train, X_test, Y_train, Y_test = train_test_split(X,Y, test_size=0.3)"
      ],
      "metadata": {
        "id": "aI1O2DOhrzdM"
      },
      "execution_count": 7,
      "outputs": []
    },
    {
      "cell_type": "code",
      "source": [
        "print(Y_train)"
      ],
      "metadata": {
        "colab": {
          "base_uri": "https://localhost:8080/"
        },
        "id": "6IFSdxCgscDz",
        "outputId": "0f670955-b3a1-4f30-9417-1a868776be4e"
      },
      "execution_count": 8,
      "outputs": [
        {
          "output_type": "stream",
          "name": "stdout",
          "text": [
            "1316    0\n",
            "1909    0\n",
            "1039    0\n",
            "3581    0\n",
            "4194    0\n",
            "       ..\n",
            "5310    1\n",
            "5628    1\n",
            "2540    0\n",
            "1076    0\n",
            "642     0\n",
            "Name: type, Length: 4547, dtype: int64\n"
          ]
        }
      ]
    },
    {
      "cell_type": "code",
      "source": [
        "print(Y_test)"
      ],
      "metadata": {
        "colab": {
          "base_uri": "https://localhost:8080/"
        },
        "id": "PUtVYXaeskGC",
        "outputId": "601f8700-b2f6-4ce3-b462-d8aa665a8dcc"
      },
      "execution_count": 9,
      "outputs": [
        {
          "output_type": "stream",
          "name": "stdout",
          "text": [
            "2645    0\n",
            "2170    0\n",
            "2491    0\n",
            "4725    0\n",
            "4986    1\n",
            "       ..\n",
            "6245    1\n",
            "1339    0\n",
            "6456    1\n",
            "2114    0\n",
            "249     0\n",
            "Name: type, Length: 1950, dtype: int64\n"
          ]
        }
      ]
    },
    {
      "cell_type": "code",
      "source": [
        "Y_train = np_utils.to_categorical(Y_train, num_classes= 2)\n",
        "print(Y_train)"
      ],
      "metadata": {
        "colab": {
          "base_uri": "https://localhost:8080/"
        },
        "id": "9EWGuz_osn6r",
        "outputId": "4022871f-8a91-494a-847e-c814c6576a85"
      },
      "execution_count": 10,
      "outputs": [
        {
          "output_type": "stream",
          "name": "stdout",
          "text": [
            "[[1. 0.]\n",
            " [1. 0.]\n",
            " [1. 0.]\n",
            " ...\n",
            " [1. 0.]\n",
            " [1. 0.]\n",
            " [1. 0.]]\n"
          ]
        }
      ]
    },
    {
      "cell_type": "code",
      "source": [
        "Y_test = np_utils.to_categorical(Y_test, num_classes= 2)\n",
        "print(Y_test)"
      ],
      "metadata": {
        "colab": {
          "base_uri": "https://localhost:8080/"
        },
        "id": "945InZ-MszzT",
        "outputId": "318e6577-4052-4386-a68e-8ff31f5f9d3f"
      },
      "execution_count": 11,
      "outputs": [
        {
          "output_type": "stream",
          "name": "stdout",
          "text": [
            "[[1. 0.]\n",
            " [1. 0.]\n",
            " [1. 0.]\n",
            " ...\n",
            " [0. 1.]\n",
            " [1. 0.]\n",
            " [1. 0.]]\n"
          ]
        }
      ]
    },
    {
      "cell_type": "markdown",
      "source": [
        "# Creating the model"
      ],
      "metadata": {
        "id": "FJMd6uW5J-g7"
      }
    },
    {
      "cell_type": "code",
      "source": [
        "model = models.Sequential()\n",
        "model.add(Input(shape=(12,)))\n",
        "\n",
        "model.add(Dense(50, activation='relu'))\n",
        "model.add(Dense(50, activation='relu'))\n",
        "model.add(Dense(50, activation='relu'))\n",
        "model.add(Dense(50, activation='relu'))\n",
        "\n",
        "model.add(Dense(2, activation='softmax'))"
      ],
      "metadata": {
        "id": "-pvrWfbctPHL"
      },
      "execution_count": 12,
      "outputs": []
    },
    {
      "cell_type": "markdown",
      "source": [
        "# Compiling the model"
      ],
      "metadata": {
        "id": "TFOOauErKBg5"
      }
    },
    {
      "cell_type": "code",
      "source": [
        "model.compile(optimizer='adam', loss='binary_crossentropy', metrics=['accuracy'])"
      ],
      "metadata": {
        "id": "Qd6tyKkA76GY"
      },
      "execution_count": 13,
      "outputs": []
    },
    {
      "cell_type": "markdown",
      "source": [
        "# Training the model"
      ],
      "metadata": {
        "id": "5azmYpeZKEPj"
      }
    },
    {
      "cell_type": "code",
      "source": [
        "history = model.fit(X_train, Y_train, epochs=100, batch_size=30 , validation_data=(X_test,Y_test))"
      ],
      "metadata": {
        "colab": {
          "base_uri": "https://localhost:8080/"
        },
        "id": "F1ex1Zz58V22",
        "outputId": "cec104b5-946e-42a3-b086-f258aff72294"
      },
      "execution_count": 14,
      "outputs": [
        {
          "output_type": "stream",
          "name": "stdout",
          "text": [
            "Epoch 1/100\n",
            "152/152 [==============================] - 7s 10ms/step - loss: 0.2295 - accuracy: 0.9221 - val_loss: 0.1878 - val_accuracy: 0.9333\n",
            "Epoch 2/100\n",
            "152/152 [==============================] - 2s 10ms/step - loss: 0.1690 - accuracy: 0.9411 - val_loss: 0.1600 - val_accuracy: 0.9415\n",
            "Epoch 3/100\n",
            "152/152 [==============================] - 1s 9ms/step - loss: 0.1530 - accuracy: 0.9463 - val_loss: 0.1389 - val_accuracy: 0.9446\n",
            "Epoch 4/100\n",
            "152/152 [==============================] - 1s 10ms/step - loss: 0.1399 - accuracy: 0.9518 - val_loss: 0.1956 - val_accuracy: 0.9292\n",
            "Epoch 5/100\n",
            "152/152 [==============================] - 1s 10ms/step - loss: 0.1284 - accuracy: 0.9562 - val_loss: 0.1163 - val_accuracy: 0.9538\n",
            "Epoch 6/100\n",
            "152/152 [==============================] - 2s 14ms/step - loss: 0.1170 - accuracy: 0.9622 - val_loss: 0.1184 - val_accuracy: 0.9579\n",
            "Epoch 7/100\n",
            "152/152 [==============================] - 1s 10ms/step - loss: 0.1109 - accuracy: 0.9633 - val_loss: 0.1022 - val_accuracy: 0.9636\n",
            "Epoch 8/100\n",
            "152/152 [==============================] - 1s 8ms/step - loss: 0.0981 - accuracy: 0.9677 - val_loss: 0.1074 - val_accuracy: 0.9631\n",
            "Epoch 9/100\n",
            "152/152 [==============================] - 2s 12ms/step - loss: 0.0893 - accuracy: 0.9721 - val_loss: 0.1161 - val_accuracy: 0.9615\n",
            "Epoch 10/100\n",
            "152/152 [==============================] - 1s 10ms/step - loss: 0.0941 - accuracy: 0.9690 - val_loss: 0.0851 - val_accuracy: 0.9723\n",
            "Epoch 11/100\n",
            "152/152 [==============================] - 1s 9ms/step - loss: 0.0828 - accuracy: 0.9716 - val_loss: 0.1425 - val_accuracy: 0.9497\n",
            "Epoch 12/100\n",
            "152/152 [==============================] - 1s 5ms/step - loss: 0.0823 - accuracy: 0.9738 - val_loss: 0.1636 - val_accuracy: 0.9421\n",
            "Epoch 13/100\n",
            "152/152 [==============================] - 1s 5ms/step - loss: 0.0777 - accuracy: 0.9743 - val_loss: 0.1243 - val_accuracy: 0.9554\n",
            "Epoch 14/100\n",
            "152/152 [==============================] - 1s 5ms/step - loss: 0.0831 - accuracy: 0.9734 - val_loss: 0.0880 - val_accuracy: 0.9718\n",
            "Epoch 15/100\n",
            "152/152 [==============================] - 1s 5ms/step - loss: 0.0684 - accuracy: 0.9787 - val_loss: 0.0989 - val_accuracy: 0.9667\n",
            "Epoch 16/100\n",
            "152/152 [==============================] - 1s 7ms/step - loss: 0.0766 - accuracy: 0.9784 - val_loss: 0.1118 - val_accuracy: 0.9687\n",
            "Epoch 17/100\n",
            "152/152 [==============================] - 1s 7ms/step - loss: 0.0788 - accuracy: 0.9767 - val_loss: 0.0797 - val_accuracy: 0.9728\n",
            "Epoch 18/100\n",
            "152/152 [==============================] - 1s 6ms/step - loss: 0.0694 - accuracy: 0.9773 - val_loss: 0.0892 - val_accuracy: 0.9723\n",
            "Epoch 19/100\n",
            "152/152 [==============================] - 1s 5ms/step - loss: 0.0701 - accuracy: 0.9780 - val_loss: 0.0761 - val_accuracy: 0.9779\n",
            "Epoch 20/100\n",
            "152/152 [==============================] - 1s 5ms/step - loss: 0.0598 - accuracy: 0.9824 - val_loss: 0.0741 - val_accuracy: 0.9754\n",
            "Epoch 21/100\n",
            "152/152 [==============================] - 1s 5ms/step - loss: 0.0580 - accuracy: 0.9842 - val_loss: 0.0773 - val_accuracy: 0.9759\n",
            "Epoch 22/100\n",
            "152/152 [==============================] - 1s 5ms/step - loss: 0.0727 - accuracy: 0.9787 - val_loss: 0.0911 - val_accuracy: 0.9713\n",
            "Epoch 23/100\n",
            "152/152 [==============================] - 1s 5ms/step - loss: 0.0810 - accuracy: 0.9765 - val_loss: 0.0731 - val_accuracy: 0.9769\n",
            "Epoch 24/100\n",
            "152/152 [==============================] - 1s 5ms/step - loss: 0.0600 - accuracy: 0.9817 - val_loss: 0.1004 - val_accuracy: 0.9682\n",
            "Epoch 25/100\n",
            "152/152 [==============================] - 1s 5ms/step - loss: 0.0590 - accuracy: 0.9826 - val_loss: 0.0793 - val_accuracy: 0.9759\n",
            "Epoch 26/100\n",
            "152/152 [==============================] - 1s 5ms/step - loss: 0.0607 - accuracy: 0.9828 - val_loss: 0.0697 - val_accuracy: 0.9790\n",
            "Epoch 27/100\n",
            "152/152 [==============================] - 1s 5ms/step - loss: 0.0562 - accuracy: 0.9833 - val_loss: 0.0715 - val_accuracy: 0.9779\n",
            "Epoch 28/100\n",
            "152/152 [==============================] - 1s 5ms/step - loss: 0.0612 - accuracy: 0.9815 - val_loss: 0.0904 - val_accuracy: 0.9764\n",
            "Epoch 29/100\n",
            "152/152 [==============================] - 1s 5ms/step - loss: 0.0525 - accuracy: 0.9859 - val_loss: 0.0749 - val_accuracy: 0.9769\n",
            "Epoch 30/100\n",
            "152/152 [==============================] - 1s 5ms/step - loss: 0.0551 - accuracy: 0.9839 - val_loss: 0.0899 - val_accuracy: 0.9759\n",
            "Epoch 31/100\n",
            "152/152 [==============================] - 1s 6ms/step - loss: 0.0545 - accuracy: 0.9853 - val_loss: 0.0652 - val_accuracy: 0.9821\n",
            "Epoch 32/100\n",
            "152/152 [==============================] - 1s 7ms/step - loss: 0.0516 - accuracy: 0.9824 - val_loss: 0.0663 - val_accuracy: 0.9821\n",
            "Epoch 33/100\n",
            "152/152 [==============================] - 1s 8ms/step - loss: 0.0468 - accuracy: 0.9868 - val_loss: 0.0985 - val_accuracy: 0.9723\n",
            "Epoch 34/100\n",
            "152/152 [==============================] - 1s 5ms/step - loss: 0.0573 - accuracy: 0.9837 - val_loss: 0.0660 - val_accuracy: 0.9831\n",
            "Epoch 35/100\n",
            "152/152 [==============================] - 1s 5ms/step - loss: 0.0526 - accuracy: 0.9833 - val_loss: 0.0700 - val_accuracy: 0.9815\n",
            "Epoch 36/100\n",
            "152/152 [==============================] - 1s 5ms/step - loss: 0.0502 - accuracy: 0.9861 - val_loss: 0.0648 - val_accuracy: 0.9790\n",
            "Epoch 37/100\n",
            "152/152 [==============================] - 1s 5ms/step - loss: 0.0510 - accuracy: 0.9848 - val_loss: 0.0955 - val_accuracy: 0.9728\n",
            "Epoch 38/100\n",
            "152/152 [==============================] - 1s 5ms/step - loss: 0.0463 - accuracy: 0.9853 - val_loss: 0.0698 - val_accuracy: 0.9800\n",
            "Epoch 39/100\n",
            "152/152 [==============================] - 1s 5ms/step - loss: 0.0440 - accuracy: 0.9870 - val_loss: 0.0627 - val_accuracy: 0.9831\n",
            "Epoch 40/100\n",
            "152/152 [==============================] - 1s 5ms/step - loss: 0.0511 - accuracy: 0.9853 - val_loss: 0.0703 - val_accuracy: 0.9805\n",
            "Epoch 41/100\n",
            "152/152 [==============================] - 1s 5ms/step - loss: 0.0420 - accuracy: 0.9883 - val_loss: 0.0679 - val_accuracy: 0.9841\n",
            "Epoch 42/100\n",
            "152/152 [==============================] - 1s 5ms/step - loss: 0.0538 - accuracy: 0.9842 - val_loss: 0.0710 - val_accuracy: 0.9785\n",
            "Epoch 43/100\n",
            "152/152 [==============================] - 1s 5ms/step - loss: 0.0439 - accuracy: 0.9872 - val_loss: 0.0925 - val_accuracy: 0.9749\n",
            "Epoch 44/100\n",
            "152/152 [==============================] - 1s 5ms/step - loss: 0.0438 - accuracy: 0.9870 - val_loss: 0.0776 - val_accuracy: 0.9800\n",
            "Epoch 45/100\n",
            "152/152 [==============================] - 1s 5ms/step - loss: 0.0478 - accuracy: 0.9844 - val_loss: 0.0981 - val_accuracy: 0.9723\n",
            "Epoch 46/100\n",
            "152/152 [==============================] - 1s 7ms/step - loss: 0.0470 - accuracy: 0.9857 - val_loss: 0.0766 - val_accuracy: 0.9790\n",
            "Epoch 47/100\n",
            "152/152 [==============================] - 1s 8ms/step - loss: 0.0442 - accuracy: 0.9877 - val_loss: 0.1150 - val_accuracy: 0.9662\n",
            "Epoch 48/100\n",
            "152/152 [==============================] - 1s 6ms/step - loss: 0.0454 - accuracy: 0.9870 - val_loss: 0.0632 - val_accuracy: 0.9831\n",
            "Epoch 49/100\n",
            "152/152 [==============================] - 1s 5ms/step - loss: 0.0402 - accuracy: 0.9877 - val_loss: 0.0682 - val_accuracy: 0.9831\n",
            "Epoch 50/100\n",
            "152/152 [==============================] - 1s 5ms/step - loss: 0.0441 - accuracy: 0.9879 - val_loss: 0.0729 - val_accuracy: 0.9790\n",
            "Epoch 51/100\n",
            "152/152 [==============================] - 1s 5ms/step - loss: 0.0429 - accuracy: 0.9879 - val_loss: 0.0754 - val_accuracy: 0.9826\n",
            "Epoch 52/100\n",
            "152/152 [==============================] - 1s 5ms/step - loss: 0.0380 - accuracy: 0.9890 - val_loss: 0.0951 - val_accuracy: 0.9769\n",
            "Epoch 53/100\n",
            "152/152 [==============================] - 1s 5ms/step - loss: 0.0484 - accuracy: 0.9850 - val_loss: 0.0964 - val_accuracy: 0.9738\n",
            "Epoch 54/100\n",
            "152/152 [==============================] - 1s 5ms/step - loss: 0.0429 - accuracy: 0.9866 - val_loss: 0.0634 - val_accuracy: 0.9846\n",
            "Epoch 55/100\n",
            "152/152 [==============================] - 1s 5ms/step - loss: 0.0418 - accuracy: 0.9892 - val_loss: 0.0913 - val_accuracy: 0.9764\n",
            "Epoch 56/100\n",
            "152/152 [==============================] - 1s 5ms/step - loss: 0.0484 - accuracy: 0.9857 - val_loss: 0.0819 - val_accuracy: 0.9779\n",
            "Epoch 57/100\n",
            "152/152 [==============================] - 1s 5ms/step - loss: 0.0433 - accuracy: 0.9881 - val_loss: 0.0610 - val_accuracy: 0.9831\n",
            "Epoch 58/100\n",
            "152/152 [==============================] - 1s 5ms/step - loss: 0.0366 - accuracy: 0.9877 - val_loss: 0.1142 - val_accuracy: 0.9692\n",
            "Epoch 59/100\n",
            "152/152 [==============================] - 1s 5ms/step - loss: 0.0443 - accuracy: 0.9855 - val_loss: 0.0785 - val_accuracy: 0.9795\n",
            "Epoch 60/100\n",
            "152/152 [==============================] - 1s 5ms/step - loss: 0.0380 - accuracy: 0.9897 - val_loss: 0.0758 - val_accuracy: 0.9795\n",
            "Epoch 61/100\n",
            "152/152 [==============================] - 1s 8ms/step - loss: 0.0398 - accuracy: 0.9872 - val_loss: 0.0688 - val_accuracy: 0.9862\n",
            "Epoch 62/100\n",
            "152/152 [==============================] - 1s 8ms/step - loss: 0.0366 - accuracy: 0.9877 - val_loss: 0.0969 - val_accuracy: 0.9764\n",
            "Epoch 63/100\n",
            "152/152 [==============================] - 1s 5ms/step - loss: 0.0362 - accuracy: 0.9890 - val_loss: 0.0711 - val_accuracy: 0.9815\n",
            "Epoch 64/100\n",
            "152/152 [==============================] - 1s 5ms/step - loss: 0.0399 - accuracy: 0.9881 - val_loss: 0.0744 - val_accuracy: 0.9795\n",
            "Epoch 65/100\n",
            "152/152 [==============================] - 1s 5ms/step - loss: 0.0378 - accuracy: 0.9886 - val_loss: 0.1067 - val_accuracy: 0.9738\n",
            "Epoch 66/100\n",
            "152/152 [==============================] - 1s 5ms/step - loss: 0.0433 - accuracy: 0.9879 - val_loss: 0.0760 - val_accuracy: 0.9821\n",
            "Epoch 67/100\n",
            "152/152 [==============================] - 1s 5ms/step - loss: 0.0333 - accuracy: 0.9883 - val_loss: 0.0741 - val_accuracy: 0.9836\n",
            "Epoch 68/100\n",
            "152/152 [==============================] - 1s 5ms/step - loss: 0.0459 - accuracy: 0.9859 - val_loss: 0.0957 - val_accuracy: 0.9733\n",
            "Epoch 69/100\n",
            "152/152 [==============================] - 1s 5ms/step - loss: 0.0364 - accuracy: 0.9890 - val_loss: 0.0987 - val_accuracy: 0.9769\n",
            "Epoch 70/100\n",
            "152/152 [==============================] - 1s 5ms/step - loss: 0.0357 - accuracy: 0.9908 - val_loss: 0.0727 - val_accuracy: 0.9821\n",
            "Epoch 71/100\n",
            "152/152 [==============================] - 1s 5ms/step - loss: 0.0361 - accuracy: 0.9881 - val_loss: 0.0653 - val_accuracy: 0.9851\n",
            "Epoch 72/100\n",
            "152/152 [==============================] - 1s 5ms/step - loss: 0.0309 - accuracy: 0.9897 - val_loss: 0.0733 - val_accuracy: 0.9851\n",
            "Epoch 73/100\n",
            "152/152 [==============================] - 1s 5ms/step - loss: 0.0343 - accuracy: 0.9894 - val_loss: 0.1175 - val_accuracy: 0.9754\n",
            "Epoch 74/100\n",
            "152/152 [==============================] - 1s 5ms/step - loss: 0.0335 - accuracy: 0.9894 - val_loss: 0.0712 - val_accuracy: 0.9846\n",
            "Epoch 75/100\n",
            "152/152 [==============================] - 1s 5ms/step - loss: 0.0314 - accuracy: 0.9905 - val_loss: 0.0802 - val_accuracy: 0.9841\n",
            "Epoch 76/100\n",
            "152/152 [==============================] - 1s 8ms/step - loss: 0.0316 - accuracy: 0.9897 - val_loss: 0.1164 - val_accuracy: 0.9759\n",
            "Epoch 77/100\n",
            "152/152 [==============================] - 1s 8ms/step - loss: 0.0348 - accuracy: 0.9894 - val_loss: 0.0769 - val_accuracy: 0.9846\n",
            "Epoch 78/100\n",
            "152/152 [==============================] - 1s 5ms/step - loss: 0.0394 - accuracy: 0.9883 - val_loss: 0.0848 - val_accuracy: 0.9805\n",
            "Epoch 79/100\n",
            "152/152 [==============================] - 1s 5ms/step - loss: 0.0324 - accuracy: 0.9892 - val_loss: 0.0881 - val_accuracy: 0.9836\n",
            "Epoch 80/100\n",
            "152/152 [==============================] - 1s 5ms/step - loss: 0.0320 - accuracy: 0.9910 - val_loss: 0.0838 - val_accuracy: 0.9821\n",
            "Epoch 81/100\n",
            "152/152 [==============================] - 1s 5ms/step - loss: 0.0351 - accuracy: 0.9888 - val_loss: 0.0856 - val_accuracy: 0.9810\n",
            "Epoch 82/100\n",
            "152/152 [==============================] - 1s 5ms/step - loss: 0.0321 - accuracy: 0.9901 - val_loss: 0.0708 - val_accuracy: 0.9872\n",
            "Epoch 83/100\n",
            "152/152 [==============================] - 1s 5ms/step - loss: 0.0273 - accuracy: 0.9923 - val_loss: 0.0770 - val_accuracy: 0.9831\n",
            "Epoch 84/100\n",
            "152/152 [==============================] - 1s 5ms/step - loss: 0.0350 - accuracy: 0.9899 - val_loss: 0.1039 - val_accuracy: 0.9759\n",
            "Epoch 85/100\n",
            "152/152 [==============================] - 1s 5ms/step - loss: 0.0347 - accuracy: 0.9912 - val_loss: 0.0812 - val_accuracy: 0.9841\n",
            "Epoch 86/100\n",
            "152/152 [==============================] - 1s 5ms/step - loss: 0.0427 - accuracy: 0.9859 - val_loss: 0.0726 - val_accuracy: 0.9846\n",
            "Epoch 87/100\n",
            "152/152 [==============================] - 1s 5ms/step - loss: 0.0336 - accuracy: 0.9888 - val_loss: 0.1044 - val_accuracy: 0.9836\n",
            "Epoch 88/100\n",
            "152/152 [==============================] - 1s 5ms/step - loss: 0.0323 - accuracy: 0.9921 - val_loss: 0.0806 - val_accuracy: 0.9821\n",
            "Epoch 89/100\n",
            "152/152 [==============================] - 1s 5ms/step - loss: 0.0254 - accuracy: 0.9923 - val_loss: 0.0876 - val_accuracy: 0.9836\n",
            "Epoch 90/100\n",
            "152/152 [==============================] - 1s 5ms/step - loss: 0.0270 - accuracy: 0.9923 - val_loss: 0.1235 - val_accuracy: 0.9692\n",
            "Epoch 91/100\n",
            "152/152 [==============================] - 1s 7ms/step - loss: 0.0358 - accuracy: 0.9881 - val_loss: 0.0695 - val_accuracy: 0.9836\n",
            "Epoch 92/100\n",
            "152/152 [==============================] - 1s 7ms/step - loss: 0.0307 - accuracy: 0.9916 - val_loss: 0.0756 - val_accuracy: 0.9826\n",
            "Epoch 93/100\n",
            "152/152 [==============================] - 1s 6ms/step - loss: 0.0317 - accuracy: 0.9903 - val_loss: 0.1026 - val_accuracy: 0.9759\n",
            "Epoch 94/100\n",
            "152/152 [==============================] - 1s 5ms/step - loss: 0.0338 - accuracy: 0.9890 - val_loss: 0.0758 - val_accuracy: 0.9826\n",
            "Epoch 95/100\n",
            "152/152 [==============================] - 1s 5ms/step - loss: 0.0284 - accuracy: 0.9905 - val_loss: 0.0755 - val_accuracy: 0.9851\n",
            "Epoch 96/100\n",
            "152/152 [==============================] - 1s 5ms/step - loss: 0.0407 - accuracy: 0.9883 - val_loss: 0.0949 - val_accuracy: 0.9779\n",
            "Epoch 97/100\n",
            "152/152 [==============================] - 1s 5ms/step - loss: 0.0289 - accuracy: 0.9930 - val_loss: 0.0663 - val_accuracy: 0.9872\n",
            "Epoch 98/100\n",
            "152/152 [==============================] - 1s 5ms/step - loss: 0.0246 - accuracy: 0.9925 - val_loss: 0.0707 - val_accuracy: 0.9846\n",
            "Epoch 99/100\n",
            "152/152 [==============================] - 1s 8ms/step - loss: 0.0272 - accuracy: 0.9914 - val_loss: 0.0754 - val_accuracy: 0.9846\n",
            "Epoch 100/100\n",
            "152/152 [==============================] - 1s 9ms/step - loss: 0.0285 - accuracy: 0.9927 - val_loss: 0.0878 - val_accuracy: 0.9810\n"
          ]
        }
      ]
    },
    {
      "cell_type": "code",
      "source": [
        "plt.plot(history.history['accuracy'], label= 'Accuracy')\n",
        "plt.plot(history.history['val_accuracy'], label= 'Validation Accuracy')\n",
        "xlabel = 'Epoch'\n",
        "ylabel = 'Accuracy'\n",
        "plt.show()"
      ],
      "metadata": {
        "colab": {
          "base_uri": "https://localhost:8080/",
          "height": 430
        },
        "id": "q34t0NpG8rng",
        "outputId": "83b15469-77ce-4c12-87b2-1f3f9e03ddf4"
      },
      "execution_count": 15,
      "outputs": [
        {
          "output_type": "display_data",
          "data": {
            "text/plain": [
              "<Figure size 640x480 with 1 Axes>"
            ],
            "image/png": "[encoded data removed]"
          },
          "metadata": {}
        }
      ]
    },
    {
      "cell_type": "code",
      "source": [
        "plt.plot(history.history['loss'], label= 'Loss')\n",
        "xlabel = 'Epoch'\n",
        "ylabel = 'Loss'\n",
        "plt.show()"
      ],
      "metadata": {
        "colab": {
          "base_uri": "https://localhost:8080/",
          "height": 430
        },
        "id": "n93xfAveCWnp",
        "outputId": "00d8e6ca-24c5-4691-bbbe-0dd6838527ea"
      },
      "execution_count": 16,
      "outputs": [
        {
          "output_type": "display_data",
          "data": {
            "text/plain": [
              "<Figure size 640x480 with 1 Axes>"
            ],
            "image/png": "[encoded data removed]"
          },
          "metadata": {}
        }
      ]
    },
    {
      "cell_type": "code",
      "source": [],
      "metadata": {
        "id": "VvfVNLN7DSZy"
      },
      "execution_count": 16,
      "outputs": []
    }
  ]
}