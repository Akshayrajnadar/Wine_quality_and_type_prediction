{
  "cells": [
    {
      "cell_type": "markdown",
      "metadata": {
        "id": "view-in-github",
        "colab_type": "text"
      },
      "source": [
        "<a href=\"https://colab.research.google.com/github/Akshayrajnadar/Wine_quality_prediction/blob/master/Wine_quality_recognition.ipynb\" target=\"_parent\"><img src=\"https://colab.research.google.com/assets/colab-badge.svg\" alt=\"Open In Colab\"/></a>"
      ]
    },
    {
      "cell_type": "markdown",
      "source": [
        "# Wine Dataset\n",
        "The wine dataset consists of 13 parameters that describe different characteristics of the wine. These parameters are used to predict the quality of the wine, which is categorized into three classes ranging from 1 to 3. Here's a description of the 13 parameters typically found in wine datasets:\n",
        "\n",
        "1. Alcohol: The percentage of alcohol content in the wine.\n",
        "2. Malic Acid: The amount of malic acid present in the wine, which contributes to its tartness.\n",
        "3. Ash: The total ash content, representing the mineral content of the wine.\n",
        "4. Alkalinity of Ash: This parameter measures the alkalinity or the pH level of the ash.\n",
        "5. Magnesium: The amount of magnesium present in the wine.\n",
        "6. Total Phenols: The total concentration of phenolic compounds in the wine, which contributes to its color and flavor.\n",
        "7. Flavanoids: The concentration of flavonoids, a subclass of phenolic compounds, in the wine.\n",
        "8. Nonflavanoid Phenols: The concentration of non-flavonoid phenols, another subclass of phenolic compounds, in the wine.\n",
        "9. Proanthocyanins: The concentration of proanthocyanins, which are antioxidants found in grapes and red wines.\n",
        "10. Color Intensity: The intensity of color in the wine, typically determined by spectrophotometry.\n",
        "11. Hue: The hue or shade of the wine, which is also related to its color.\n",
        "12. OD280/OD315 of Diluted Wines: This parameter represents the ratio of optical density at 280 nm to that at 315 nm and provides information about the wine's protein content.\n",
        "13. Proline: The concentration of proline, an amino acid, in the wine.\n",
        "\n",
        "The quality of the wine is classified into three classes:\n",
        "\n",
        "Class 1: Low-quality wine.\n",
        "\n",
        "Class 2: Medium-quality wine.\n",
        "\n",
        "Class 3: High-quality wine.\n",
        "\n",
        "So, here we are going to make a RNN model to predict the quality of wine using this perameters. First we wil import all the required librarys and then we will clean the data for further processing."
      ],
      "metadata": {
        "id": "j-CJW1UC-olO"
      }
    },
    {
      "cell_type": "code",
      "execution_count": null,
      "metadata": {
        "id": "raq3Gp4X1MOI"
      },
      "outputs": [],
      "source": [
        "import numpy as np\n",
        "import pandas as pd\n",
        "\n",
        "from sklearn.model_selection import train_test_split\n",
        "from sklearn.preprocessing import MinMaxScaler\n",
        "from tensorflow.keras import datasets, models, layers\n",
        "from keras.utils import np_utils\n",
        "from keras.layers import Dense, Input\n",
        "import matplotlib.pyplot as plt\n",
        "import seaborn as sns"
      ]
    },
    {
      "cell_type": "markdown",
      "source": [
        "# Importing wine dataset using Pandas"
      ],
      "metadata": {
        "id": "xNGDZM-3Tosx"
      }
    },
    {
      "cell_type": "code",
      "execution_count": null,
      "metadata": {
        "colab": {
          "base_uri": "https://localhost:8080/",
          "height": 206
        },
        "id": "OEi0_y036tjU",
        "outputId": "ecca2152-7fd5-4331-c935-b7d4b5bc4969"
      },
      "outputs": [
        {
          "output_type": "execute_result",
          "data": {
            "text/plain": [
              "   Outcome  Alcohol  Malic acid   Ash  Alcalinity_of_ash  Magnesium  \\\n",
              "0        1    14.23        1.71  2.43               15.6        127   \n",
              "1        1    13.20        1.78  2.14               11.2        100   \n",
              "2        1    13.16        2.36  2.67               18.6        101   \n",
              "3        1    14.37        1.95  2.50               16.8        113   \n",
              "4        1    13.24        2.59  2.87               21.0        118   \n",
              "\n",
              "   Total_phenols  Flavanoids  Nonflavanoid_phenols  Proanthocyanins  \\\n",
              "0           2.80        3.06                  0.28             2.29   \n",
              "1           2.65        2.76                  0.26             1.28   \n",
              "2           2.80        3.24                  0.30             2.81   \n",
              "3           3.85        3.49                  0.24             2.18   \n",
              "4           2.80        2.69                  0.39             1.82   \n",
              "\n",
              "   Color intensity   Hue  OD280/OD315_of_diluted_wines  Proline  \n",
              "0             5.64  1.04                          3.92     1065  \n",
              "1             4.38  1.05                          3.40     1050  \n",
              "2             5.68  1.03                          3.17     1185  \n",
              "3             7.80  0.86                          3.45     1480  \n",
              "4             4.32  1.04                          2.93      735  "
            ],
            "text/html": [
              "\n",
              "  <div id=\"df-c88461f8-840c-4bbf-8c32-1b883c1771de\">\n",
              "    <div class=\"colab-df-container\">\n",
              "      <div>\n",
              "<style scoped>\n",
              "    .dataframe tbody tr th:only-of-type {\n",
              "        vertical-align: middle;\n",
              "    }\n",
              "\n",
              "    .dataframe tbody tr th {\n",
              "        vertical-align: top;\n",
              "    }\n",
              "\n",
              "    .dataframe thead th {\n",
              "        text-align: right;\n",
              "    }\n",
              "</style>\n",
              "<table border=\"1\" class=\"dataframe\">\n",
              "  <thead>\n",
              "    <tr style=\"text-align: right;\">\n",
              "      <th></th>\n",
              "      <th>Outcome</th>\n",
              "      <th>Alcohol</th>\n",
              "      <th>Malic acid</th>\n",
              "      <th>Ash</th>\n",
              "      <th>Alcalinity_of_ash</th>\n",
              "      <th>Magnesium</th>\n",
              "      <th>Total_phenols</th>\n",
              "      <th>Flavanoids</th>\n",
              "      <th>Nonflavanoid_phenols</th>\n",
              "      <th>Proanthocyanins</th>\n",
              "      <th>Color intensity</th>\n",
              "      <th>Hue</th>\n",
              "      <th>OD280/OD315_of_diluted_wines</th>\n",
              "      <th>Proline</th>\n",
              "    </tr>\n",
              "  </thead>\n",
              "  <tbody>\n",
              "    <tr>\n",
              "      <th>0</th>\n",
              "      <td>1</td>\n",
              "      <td>14.23</td>\n",
              "      <td>1.71</td>\n",
              "      <td>2.43</td>\n",
              "      <td>15.6</td>\n",
              "      <td>127</td>\n",
              "      <td>2.80</td>\n",
              "      <td>3.06</td>\n",
              "      <td>0.28</td>\n",
              "      <td>2.29</td>\n",
              "      <td>5.64</td>\n",
              "      <td>1.04</td>\n",
              "      <td>3.92</td>\n",
              "      <td>1065</td>\n",
              "    </tr>\n",
              "    <tr>\n",
              "      <th>1</th>\n",
              "      <td>1</td>\n",
              "      <td>13.20</td>\n",
              "      <td>1.78</td>\n",
              "      <td>2.14</td>\n",
              "      <td>11.2</td>\n",
              "      <td>100</td>\n",
              "      <td>2.65</td>\n",
              "      <td>2.76</td>\n",
              "      <td>0.26</td>\n",
              "      <td>1.28</td>\n",
              "      <td>4.38</td>\n",
              "      <td>1.05</td>\n",
              "      <td>3.40</td>\n",
              "      <td>1050</td>\n",
              "    </tr>\n",
              "    <tr>\n",
              "      <th>2</th>\n",
              "      <td>1</td>\n",
              "      <td>13.16</td>\n",
              "      <td>2.36</td>\n",
              "      <td>2.67</td>\n",
              "      <td>18.6</td>\n",
              "      <td>101</td>\n",
              "      <td>2.80</td>\n",
              "      <td>3.24</td>\n",
              "      <td>0.30</td>\n",
              "      <td>2.81</td>\n",
              "      <td>5.68</td>\n",
              "      <td>1.03</td>\n",
              "      <td>3.17</td>\n",
              "      <td>1185</td>\n",
              "    </tr>\n",
              "    <tr>\n",
              "      <th>3</th>\n",
              "      <td>1</td>\n",
              "      <td>14.37</td>\n",
              "      <td>1.95</td>\n",
              "      <td>2.50</td>\n",
              "      <td>16.8</td>\n",
              "      <td>113</td>\n",
              "      <td>3.85</td>\n",
              "      <td>3.49</td>\n",
              "      <td>0.24</td>\n",
              "      <td>2.18</td>\n",
              "      <td>7.80</td>\n",
              "      <td>0.86</td>\n",
              "      <td>3.45</td>\n",
              "      <td>1480</td>\n",
              "    </tr>\n",
              "    <tr>\n",
              "      <th>4</th>\n",
              "      <td>1</td>\n",
              "      <td>13.24</td>\n",
              "      <td>2.59</td>\n",
              "      <td>2.87</td>\n",
              "      <td>21.0</td>\n",
              "      <td>118</td>\n",
              "      <td>2.80</td>\n",
              "      <td>2.69</td>\n",
              "      <td>0.39</td>\n",
              "      <td>1.82</td>\n",
              "      <td>4.32</td>\n",
              "      <td>1.04</td>\n",
              "      <td>2.93</td>\n",
              "      <td>735</td>\n",
              "    </tr>\n",
              "  </tbody>\n",
              "</table>\n",
              "</div>\n",
              "      <button class=\"colab-df-convert\" onclick=\"convertToInteractive('df-c88461f8-840c-4bbf-8c32-1b883c1771de')\"\n",
              "              title=\"Convert this dataframe to an interactive table.\"\n",
              "              style=\"display:none;\">\n",
              "        \n",
              "  <svg xmlns=\"http://www.w3.org/2000/svg\" height=\"24px\"viewBox=\"0 0 24 24\"\n",
              "       width=\"24px\">\n",
              "    <path d=\"M0 0h24v24H0V0z\" fill=\"none\"/>\n",
              "    <path d=\"M18.56 5.44l.94 2.06.94-2.06 2.06-.94-2.06-.94-.94-2.06-.94 2.06-2.06.94zm-11 1L8.5 8.5l.94-2.06 2.06-.94-2.06-.94L8.5 2.5l-.94 2.06-2.06.94zm10 10l.94 2.06.94-2.06 2.06-.94-2.06-.94-.94-2.06-.94 2.06-2.06.94z\"/><path d=\"M17.41 7.96l-1.37-1.37c-.4-.4-.92-.59-1.43-.59-.52 0-1.04.2-1.43.59L10.3 9.45l-7.72 7.72c-.78.78-.78 2.05 0 2.83L4 21.41c.39.39.9.59 1.41.59.51 0 1.02-.2 1.41-.59l7.78-7.78 2.81-2.81c.8-.78.8-2.07 0-2.86zM5.41 20L4 18.59l7.72-7.72 1.47 1.35L5.41 20z\"/>\n",
              "  </svg>\n",
              "      </button>\n",
              "      \n",
              "  <style>\n",
              "    .colab-df-container {\n",
              "      display:flex;\n",
              "      flex-wrap:wrap;\n",
              "      gap: 12px;\n",
              "    }\n",
              "\n",
              "    .colab-df-convert {\n",
              "      background-color: #E8F0FE;\n",
              "      border: none;\n",
              "      border-radius: 50%;\n",
              "      cursor: pointer;\n",
              "      display: none;\n",
              "      fill: #1967D2;\n",
              "      height: 32px;\n",
              "      padding: 0 0 0 0;\n",
              "      width: 32px;\n",
              "    }\n",
              "\n",
              "    .colab-df-convert:hover {\n",
              "      background-color: #E2EBFA;\n",
              "      box-shadow: 0px 1px 2px rgba(60, 64, 67, 0.3), 0px 1px 3px 1px rgba(60, 64, 67, 0.15);\n",
              "      fill: #174EA6;\n",
              "    }\n",
              "\n",
              "    [theme=dark] .colab-df-convert {\n",
              "      background-color: #3B4455;\n",
              "      fill: #D2E3FC;\n",
              "    }\n",
              "\n",
              "    [theme=dark] .colab-df-convert:hover {\n",
              "      background-color: #434B5C;\n",
              "      box-shadow: 0px 1px 3px 1px rgba(0, 0, 0, 0.15);\n",
              "      filter: drop-shadow(0px 1px 2px rgba(0, 0, 0, 0.3));\n",
              "      fill: #FFFFFF;\n",
              "    }\n",
              "  </style>\n",
              "\n",
              "      <script>\n",
              "        const buttonEl =\n",
              "          document.querySelector('#df-c88461f8-840c-4bbf-8c32-1b883c1771de button.colab-df-convert');\n",
              "        buttonEl.style.display =\n",
              "          google.colab.kernel.accessAllowed ? 'block' : 'none';\n",
              "\n",
              "        async function convertToInteractive(key) {\n",
              "          const element = document.querySelector('#df-c88461f8-840c-4bbf-8c32-1b883c1771de');\n",
              "          const dataTable =\n",
              "            await google.colab.kernel.invokeFunction('convertToInteractive',\n",
              "                                                     [key], {});\n",
              "          if (!dataTable) return;\n",
              "\n",
              "          const docLinkHtml = 'Like what you see? Visit the ' +\n",
              "            '<a target=\"_blank\" href=https://colab.research.google.com/notebooks/data_table.ipynb>data table notebook</a>'\n",
              "            + ' to learn more about interactive tables.';\n",
              "          element.innerHTML = '';\n",
              "          dataTable['output_type'] = 'display_data';\n",
              "          await google.colab.output.renderOutput(dataTable, element);\n",
              "          const docLink = document.createElement('div');\n",
              "          docLink.innerHTML = docLinkHtml;\n",
              "          element.appendChild(docLink);\n",
              "        }\n",
              "      </script>\n",
              "    </div>\n",
              "  </div>\n",
              "  "
            ]
          },
          "metadata": {},
          "execution_count": 2
        }
      ],
      "source": [
        "data =  pd.read_csv('/content/wine.csv')\n",
        "data.head()"
      ]
    },
    {
      "cell_type": "code",
      "execution_count": null,
      "metadata": {
        "colab": {
          "base_uri": "https://localhost:8080/"
        },
        "id": "Vo-1wLmm7Ovz",
        "outputId": "7cf70453-919d-410a-e182-b79c34ca530f"
      },
      "outputs": [
        {
          "output_type": "execute_result",
          "data": {
            "text/plain": [
              "(178, 14)"
            ]
          },
          "metadata": {},
          "execution_count": 3
        }
      ],
      "source": [
        "data.shape"
      ]
    },
    {
      "cell_type": "markdown",
      "source": [
        "# Creating input data from the original dataset"
      ],
      "metadata": {
        "id": "ANCFvLVkTuUx"
      }
    },
    {
      "cell_type": "code",
      "execution_count": null,
      "metadata": {
        "colab": {
          "base_uri": "https://localhost:8080/"
        },
        "id": "cx28Jpnd63NV",
        "outputId": "0991622f-f947-47b7-e53d-317f8c78105b"
      },
      "outputs": [
        {
          "output_type": "stream",
          "name": "stdout",
          "text": [
            "     Alcohol  Malic acid   Ash  Alcalinity_of_ash  Magnesium  Total_phenols  \\\n",
            "0      14.23        1.71  2.43               15.6        127           2.80   \n",
            "1      13.20        1.78  2.14               11.2        100           2.65   \n",
            "2      13.16        2.36  2.67               18.6        101           2.80   \n",
            "3      14.37        1.95  2.50               16.8        113           3.85   \n",
            "4      13.24        2.59  2.87               21.0        118           2.80   \n",
            "..       ...         ...   ...                ...        ...            ...   \n",
            "173    13.71        5.65  2.45               20.5         95           1.68   \n",
            "174    13.40        3.91  2.48               23.0        102           1.80   \n",
            "175    13.27        4.28  2.26               20.0        120           1.59   \n",
            "176    13.17        2.59  2.37               20.0        120           1.65   \n",
            "177    14.13        4.10  2.74               24.5         96           2.05   \n",
            "\n",
            "     Flavanoids  Nonflavanoid_phenols  Proanthocyanins  Color intensity   Hue  \\\n",
            "0          3.06                  0.28             2.29             5.64  1.04   \n",
            "1          2.76                  0.26             1.28             4.38  1.05   \n",
            "2          3.24                  0.30             2.81             5.68  1.03   \n",
            "3          3.49                  0.24             2.18             7.80  0.86   \n",
            "4          2.69                  0.39             1.82             4.32  1.04   \n",
            "..          ...                   ...              ...              ...   ...   \n",
            "173        0.61                  0.52             1.06             7.70  0.64   \n",
            "174        0.75                  0.43             1.41             7.30  0.70   \n",
            "175        0.69                  0.43             1.35            10.20  0.59   \n",
            "176        0.68                  0.53             1.46             9.30  0.60   \n",
            "177        0.76                  0.56             1.35             9.20  0.61   \n",
            "\n",
            "     OD280/OD315_of_diluted_wines  Proline  \n",
            "0                            3.92     1065  \n",
            "1                            3.40     1050  \n",
            "2                            3.17     1185  \n",
            "3                            3.45     1480  \n",
            "4                            2.93      735  \n",
            "..                            ...      ...  \n",
            "173                          1.74      740  \n",
            "174                          1.56      750  \n",
            "175                          1.56      835  \n",
            "176                          1.62      840  \n",
            "177                          1.60      560  \n",
            "\n",
            "[178 rows x 13 columns]\n"
          ]
        }
      ],
      "source": [
        "X = data.drop('Outcome', axis=1)\n",
        "print(X)"
      ]
    },
    {
      "cell_type": "markdown",
      "source": [
        "# Creating output data from the original dataset"
      ],
      "metadata": {
        "id": "J8lR_T6hT3c9"
      }
    },
    {
      "cell_type": "code",
      "execution_count": null,
      "metadata": {
        "colab": {
          "base_uri": "https://localhost:8080/"
        },
        "id": "VemvcGAM7FwU",
        "outputId": "2191efe0-019c-4add-8573-e46d16ba5c58"
      },
      "outputs": [
        {
          "output_type": "stream",
          "name": "stdout",
          "text": [
            "0      0\n",
            "1      0\n",
            "2      0\n",
            "3      0\n",
            "4      0\n",
            "      ..\n",
            "173    2\n",
            "174    2\n",
            "175    2\n",
            "176    2\n",
            "177    2\n",
            "Name: Outcome, Length: 178, dtype: int64\n"
          ]
        }
      ],
      "source": [
        "Y = data['Outcome']\n",
        "Y = Y.map({1:0, 2:1, 3:2}).astype(float).astype(int)\n",
        "print(Y)"
      ]
    },
    {
      "cell_type": "markdown",
      "source": [
        "# Splitting the data into training and testing data"
      ],
      "metadata": {
        "id": "BdxeRFlBT7Hv"
      }
    },
    {
      "cell_type": "code",
      "execution_count": null,
      "metadata": {
        "id": "uaVmVRet7XOd"
      },
      "outputs": [],
      "source": [
        "X_train, X_test, Y_train, Y_test = train_test_split(X,Y, test_size = 0.3)"
      ]
    },
    {
      "cell_type": "markdown",
      "source": [
        "# Using np_utils.to_categorical to making the output data a numpy array (or) a matrix which has binary values and has columns equal to the number of categories in the data."
      ],
      "metadata": {
        "id": "u2EkZHzKUNle"
      }
    },
    {
      "cell_type": "code",
      "execution_count": null,
      "metadata": {
        "colab": {
          "base_uri": "https://localhost:8080/"
        },
        "id": "QmJmg0Pu-GZA",
        "outputId": "748e7647-25e6-40d1-cc1c-69acb63cac12"
      },
      "outputs": [
        {
          "output_type": "stream",
          "name": "stdout",
          "text": [
            "[[1. 0. 0.]\n",
            " [0. 1. 0.]\n",
            " [0. 0. 1.]\n",
            " [0. 1. 0.]\n",
            " [1. 0. 0.]\n",
            " [1. 0. 0.]\n",
            " [0. 0. 1.]\n",
            " [0. 1. 0.]\n",
            " [0. 1. 0.]\n",
            " [0. 1. 0.]\n",
            " [0. 0. 1.]\n",
            " [0. 1. 0.]\n",
            " [0. 0. 1.]\n",
            " [1. 0. 0.]\n",
            " [0. 0. 1.]\n",
            " [0. 1. 0.]\n",
            " [1. 0. 0.]\n",
            " [1. 0. 0.]\n",
            " [0. 1. 0.]\n",
            " [1. 0. 0.]\n",
            " [1. 0. 0.]\n",
            " [1. 0. 0.]\n",
            " [0. 1. 0.]\n",
            " [1. 0. 0.]\n",
            " [0. 0. 1.]\n",
            " [0. 1. 0.]\n",
            " [0. 1. 0.]\n",
            " [0. 1. 0.]\n",
            " [1. 0. 0.]\n",
            " [0. 1. 0.]\n",
            " [0. 1. 0.]\n",
            " [0. 1. 0.]\n",
            " [0. 0. 1.]\n",
            " [1. 0. 0.]\n",
            " [0. 0. 1.]\n",
            " [1. 0. 0.]\n",
            " [1. 0. 0.]\n",
            " [1. 0. 0.]\n",
            " [1. 0. 0.]\n",
            " [0. 1. 0.]\n",
            " [0. 1. 0.]\n",
            " [1. 0. 0.]\n",
            " [1. 0. 0.]\n",
            " [1. 0. 0.]\n",
            " [1. 0. 0.]\n",
            " [1. 0. 0.]\n",
            " [0. 1. 0.]\n",
            " [0. 0. 1.]\n",
            " [1. 0. 0.]\n",
            " [1. 0. 0.]\n",
            " [0. 0. 1.]\n",
            " [0. 0. 1.]\n",
            " [0. 1. 0.]\n",
            " [0. 1. 0.]\n",
            " [0. 1. 0.]\n",
            " [0. 1. 0.]\n",
            " [0. 0. 1.]\n",
            " [1. 0. 0.]\n",
            " [1. 0. 0.]\n",
            " [1. 0. 0.]\n",
            " [0. 0. 1.]\n",
            " [1. 0. 0.]\n",
            " [0. 0. 1.]\n",
            " [0. 0. 1.]\n",
            " [0. 0. 1.]\n",
            " [1. 0. 0.]\n",
            " [0. 1. 0.]\n",
            " [0. 0. 1.]\n",
            " [0. 1. 0.]\n",
            " [1. 0. 0.]\n",
            " [0. 1. 0.]\n",
            " [1. 0. 0.]\n",
            " [1. 0. 0.]\n",
            " [0. 1. 0.]\n",
            " [0. 0. 1.]\n",
            " [1. 0. 0.]\n",
            " [1. 0. 0.]\n",
            " [0. 1. 0.]\n",
            " [0. 0. 1.]\n",
            " [1. 0. 0.]\n",
            " [0. 0. 1.]\n",
            " [1. 0. 0.]\n",
            " [1. 0. 0.]\n",
            " [1. 0. 0.]\n",
            " [0. 1. 0.]\n",
            " [0. 0. 1.]\n",
            " [0. 1. 0.]\n",
            " [0. 0. 1.]\n",
            " [1. 0. 0.]\n",
            " [1. 0. 0.]\n",
            " [1. 0. 0.]\n",
            " [0. 1. 0.]\n",
            " [0. 0. 1.]\n",
            " [0. 0. 1.]\n",
            " [0. 0. 1.]\n",
            " [0. 0. 1.]\n",
            " [0. 0. 1.]\n",
            " [0. 0. 1.]\n",
            " [0. 1. 0.]\n",
            " [0. 1. 0.]\n",
            " [1. 0. 0.]\n",
            " [1. 0. 0.]\n",
            " [0. 0. 1.]\n",
            " [1. 0. 0.]\n",
            " [0. 1. 0.]\n",
            " [0. 1. 0.]\n",
            " [0. 1. 0.]\n",
            " [1. 0. 0.]\n",
            " [0. 1. 0.]\n",
            " [0. 0. 1.]\n",
            " [0. 1. 0.]\n",
            " [0. 0. 1.]\n",
            " [0. 1. 0.]\n",
            " [1. 0. 0.]\n",
            " [0. 1. 0.]\n",
            " [0. 0. 1.]\n",
            " [0. 1. 0.]\n",
            " [1. 0. 0.]\n",
            " [0. 1. 0.]\n",
            " [0. 0. 1.]\n",
            " [0. 1. 0.]\n",
            " [0. 1. 0.]\n",
            " [0. 1. 0.]\n",
            " [0. 1. 0.]]\n"
          ]
        }
      ],
      "source": [
        "Y_train = np_utils.to_categorical(Y_train, num_classes= 3)\n",
        "print(Y_train)"
      ]
    },
    {
      "cell_type": "code",
      "execution_count": null,
      "metadata": {
        "id": "8SKw_dcX-dDR"
      },
      "outputs": [],
      "source": [
        "Y_test = np_utils.to_categorical(Y_test, num_classes=3)"
      ]
    },
    {
      "cell_type": "code",
      "execution_count": null,
      "metadata": {
        "id": "5b8Hdtqt8Fml"
      },
      "outputs": [],
      "source": [
        "# mm = MinMaxScaler(feature_range=(0,1))\n",
        "# X = mm.fit_transform(X_train)"
      ]
    },
    {
      "cell_type": "markdown",
      "source": [
        "# Making the model"
      ],
      "metadata": {
        "id": "dOM7XG1PUPRE"
      }
    },
    {
      "cell_type": "code",
      "execution_count": null,
      "metadata": {
        "id": "VSYNTp3U8oxd"
      },
      "outputs": [],
      "source": [
        "model = models.Sequential()\n",
        "model.add(Input(shape=[13,]))\n",
        "\n",
        "model.add(Dense(50, activation= 'relu'))\n",
        "model.add(Dense(50, activation= 'relu'))\n",
        "model.add(Dense(50, activation= 'relu'))\n",
        "model.add(Dense(50, activation= 'relu'))\n",
        "\n",
        "model.add(Dense(3, activation='sigmoid'))"
      ]
    },
    {
      "cell_type": "markdown",
      "source": [
        "# Compiling the model"
      ],
      "metadata": {
        "id": "JCzQ-QhrUSG_"
      }
    },
    {
      "cell_type": "code",
      "execution_count": null,
      "metadata": {
        "id": "8b3nD1TC8qrk"
      },
      "outputs": [],
      "source": [
        "model.compile(optimizer='adam', loss='categorical_crossentropy', metrics = ['accuracy'])"
      ]
    },
    {
      "cell_type": "markdown",
      "source": [
        "# Training the model"
      ],
      "metadata": {
        "id": "VU9clg65UVFc"
      }
    },
    {
      "cell_type": "code",
      "execution_count": null,
      "metadata": {
        "colab": {
          "base_uri": "https://localhost:8080/"
        },
        "id": "jfK-Eh8Q-5w9",
        "outputId": "1f87d4db-ca12-4e74-e418-2d2c31feddac"
      },
      "outputs": [
        {
          "output_type": "stream",
          "name": "stdout",
          "text": [
            "Epoch 1/100\n",
            "4/4 [==============================] - 0s 32ms/step - loss: 0.8295 - accuracy: 0.6371 - val_loss: 0.6352 - val_accuracy: 0.7222\n",
            "Epoch 2/100\n",
            "4/4 [==============================] - 0s 13ms/step - loss: 0.6571 - accuracy: 0.7177 - val_loss: 0.7741 - val_accuracy: 0.6667\n",
            "Epoch 3/100\n",
            "4/4 [==============================] - 0s 18ms/step - loss: 0.6911 - accuracy: 0.7016 - val_loss: 0.7465 - val_accuracy: 0.6481\n",
            "Epoch 4/100\n",
            "4/4 [==============================] - 0s 14ms/step - loss: 0.6045 - accuracy: 0.6935 - val_loss: 0.5992 - val_accuracy: 0.6852\n",
            "Epoch 5/100\n",
            "4/4 [==============================] - 0s 14ms/step - loss: 0.5813 - accuracy: 0.7177 - val_loss: 0.5906 - val_accuracy: 0.7963\n",
            "Epoch 6/100\n",
            "4/4 [==============================] - 0s 15ms/step - loss: 0.5906 - accuracy: 0.6935 - val_loss: 0.5851 - val_accuracy: 0.7407\n",
            "Epoch 7/100\n",
            "4/4 [==============================] - 0s 14ms/step - loss: 0.6416 - accuracy: 0.6774 - val_loss: 0.7702 - val_accuracy: 0.6852\n",
            "Epoch 8/100\n",
            "4/4 [==============================] - 0s 15ms/step - loss: 0.7641 - accuracy: 0.6774 - val_loss: 0.8523 - val_accuracy: 0.5370\n",
            "Epoch 9/100\n",
            "4/4 [==============================] - 0s 19ms/step - loss: 0.7268 - accuracy: 0.6532 - val_loss: 0.7800 - val_accuracy: 0.6852\n",
            "Epoch 10/100\n",
            "4/4 [==============================] - 0s 19ms/step - loss: 0.6837 - accuracy: 0.6855 - val_loss: 0.8502 - val_accuracy: 0.5741\n",
            "Epoch 11/100\n",
            "4/4 [==============================] - 0s 13ms/step - loss: 0.5422 - accuracy: 0.7339 - val_loss: 0.6482 - val_accuracy: 0.6852\n",
            "Epoch 12/100\n",
            "4/4 [==============================] - 0s 18ms/step - loss: 0.6554 - accuracy: 0.6774 - val_loss: 0.7114 - val_accuracy: 0.6852\n",
            "Epoch 13/100\n",
            "4/4 [==============================] - 0s 19ms/step - loss: 0.6672 - accuracy: 0.6371 - val_loss: 0.5503 - val_accuracy: 0.7963\n",
            "Epoch 14/100\n",
            "4/4 [==============================] - 0s 14ms/step - loss: 0.6020 - accuracy: 0.6694 - val_loss: 0.6673 - val_accuracy: 0.6852\n",
            "Epoch 15/100\n",
            "4/4 [==============================] - 0s 14ms/step - loss: 0.5341 - accuracy: 0.7581 - val_loss: 0.9778 - val_accuracy: 0.5185\n",
            "Epoch 16/100\n",
            "4/4 [==============================] - 0s 18ms/step - loss: 0.8067 - accuracy: 0.5968 - val_loss: 0.5460 - val_accuracy: 0.7407\n",
            "Epoch 17/100\n",
            "4/4 [==============================] - 0s 13ms/step - loss: 0.5850 - accuracy: 0.6935 - val_loss: 0.5259 - val_accuracy: 0.7778\n",
            "Epoch 18/100\n",
            "4/4 [==============================] - 0s 19ms/step - loss: 0.5718 - accuracy: 0.7500 - val_loss: 0.5755 - val_accuracy: 0.7778\n",
            "Epoch 19/100\n",
            "4/4 [==============================] - 0s 12ms/step - loss: 0.5376 - accuracy: 0.7339 - val_loss: 0.5759 - val_accuracy: 0.7963\n",
            "Epoch 20/100\n",
            "4/4 [==============================] - 0s 14ms/step - loss: 0.5452 - accuracy: 0.7339 - val_loss: 0.7143 - val_accuracy: 0.6667\n",
            "Epoch 21/100\n",
            "4/4 [==============================] - 0s 19ms/step - loss: 0.7426 - accuracy: 0.6452 - val_loss: 0.6673 - val_accuracy: 0.7037\n",
            "Epoch 22/100\n",
            "4/4 [==============================] - 0s 18ms/step - loss: 0.7199 - accuracy: 0.7016 - val_loss: 0.4952 - val_accuracy: 0.8333\n",
            "Epoch 23/100\n",
            "4/4 [==============================] - 0s 13ms/step - loss: 0.7209 - accuracy: 0.6613 - val_loss: 0.6188 - val_accuracy: 0.6852\n",
            "Epoch 24/100\n",
            "4/4 [==============================] - 0s 18ms/step - loss: 0.5272 - accuracy: 0.7823 - val_loss: 0.5119 - val_accuracy: 0.7593\n",
            "Epoch 25/100\n",
            "4/4 [==============================] - 0s 18ms/step - loss: 0.5177 - accuracy: 0.7500 - val_loss: 0.5958 - val_accuracy: 0.7407\n",
            "Epoch 26/100\n",
            "4/4 [==============================] - 0s 12ms/step - loss: 0.5608 - accuracy: 0.7097 - val_loss: 0.5347 - val_accuracy: 0.7778\n",
            "Epoch 27/100\n",
            "4/4 [==============================] - 0s 18ms/step - loss: 0.6084 - accuracy: 0.6452 - val_loss: 0.4992 - val_accuracy: 0.7963\n",
            "Epoch 28/100\n",
            "4/4 [==============================] - 0s 12ms/step - loss: 0.4811 - accuracy: 0.8226 - val_loss: 0.5092 - val_accuracy: 0.8519\n",
            "Epoch 29/100\n",
            "4/4 [==============================] - 0s 13ms/step - loss: 0.4809 - accuracy: 0.7984 - val_loss: 0.5836 - val_accuracy: 0.7963\n",
            "Epoch 30/100\n",
            "4/4 [==============================] - 0s 18ms/step - loss: 0.4827 - accuracy: 0.8306 - val_loss: 0.4728 - val_accuracy: 0.8889\n",
            "Epoch 31/100\n",
            "4/4 [==============================] - 0s 21ms/step - loss: 0.4799 - accuracy: 0.8065 - val_loss: 0.4958 - val_accuracy: 0.8148\n",
            "Epoch 32/100\n",
            "4/4 [==============================] - 0s 12ms/step - loss: 0.4601 - accuracy: 0.8065 - val_loss: 0.4756 - val_accuracy: 0.8333\n",
            "Epoch 33/100\n",
            "4/4 [==============================] - 0s 12ms/step - loss: 0.4589 - accuracy: 0.7984 - val_loss: 0.4793 - val_accuracy: 0.9074\n",
            "Epoch 34/100\n",
            "4/4 [==============================] - 0s 13ms/step - loss: 0.4658 - accuracy: 0.8145 - val_loss: 0.5269 - val_accuracy: 0.8333\n",
            "Epoch 35/100\n",
            "4/4 [==============================] - 0s 18ms/step - loss: 0.4885 - accuracy: 0.7661 - val_loss: 0.4707 - val_accuracy: 0.8333\n",
            "Epoch 36/100\n",
            "4/4 [==============================] - 0s 18ms/step - loss: 0.4712 - accuracy: 0.8065 - val_loss: 0.5263 - val_accuracy: 0.8148\n",
            "Epoch 37/100\n",
            "4/4 [==============================] - 0s 18ms/step - loss: 0.5603 - accuracy: 0.7097 - val_loss: 0.5743 - val_accuracy: 0.7407\n",
            "Epoch 38/100\n",
            "4/4 [==============================] - 0s 13ms/step - loss: 0.5275 - accuracy: 0.7500 - val_loss: 0.5035 - val_accuracy: 0.8148\n",
            "Epoch 39/100\n",
            "4/4 [==============================] - 0s 18ms/step - loss: 0.4858 - accuracy: 0.8145 - val_loss: 0.5579 - val_accuracy: 0.7593\n",
            "Epoch 40/100\n",
            "4/4 [==============================] - 0s 15ms/step - loss: 0.5435 - accuracy: 0.7339 - val_loss: 0.5066 - val_accuracy: 0.8519\n",
            "Epoch 41/100\n",
            "4/4 [==============================] - 0s 18ms/step - loss: 0.5708 - accuracy: 0.6855 - val_loss: 0.7925 - val_accuracy: 0.6852\n",
            "Epoch 42/100\n",
            "4/4 [==============================] - 0s 18ms/step - loss: 0.6603 - accuracy: 0.6613 - val_loss: 1.1581 - val_accuracy: 0.4630\n",
            "Epoch 43/100\n",
            "4/4 [==============================] - 0s 22ms/step - loss: 0.9211 - accuracy: 0.6855 - val_loss: 0.6197 - val_accuracy: 0.6667\n",
            "Epoch 44/100\n",
            "4/4 [==============================] - 0s 20ms/step - loss: 0.9532 - accuracy: 0.5887 - val_loss: 0.8979 - val_accuracy: 0.6111\n",
            "Epoch 45/100\n",
            "4/4 [==============================] - 0s 26ms/step - loss: 0.8653 - accuracy: 0.6694 - val_loss: 1.0041 - val_accuracy: 0.4444\n",
            "Epoch 46/100\n",
            "4/4 [==============================] - 0s 26ms/step - loss: 0.6925 - accuracy: 0.6774 - val_loss: 0.7099 - val_accuracy: 0.6481\n",
            "Epoch 47/100\n",
            "4/4 [==============================] - 0s 22ms/step - loss: 0.5544 - accuracy: 0.7581 - val_loss: 0.4221 - val_accuracy: 0.8889\n",
            "Epoch 48/100\n",
            "4/4 [==============================] - 0s 24ms/step - loss: 0.4689 - accuracy: 0.7984 - val_loss: 0.6353 - val_accuracy: 0.7037\n",
            "Epoch 49/100\n",
            "4/4 [==============================] - 0s 19ms/step - loss: 0.5404 - accuracy: 0.7339 - val_loss: 0.4354 - val_accuracy: 0.8333\n",
            "Epoch 50/100\n",
            "4/4 [==============================] - 0s 28ms/step - loss: 0.5136 - accuracy: 0.7581 - val_loss: 0.5123 - val_accuracy: 0.7778\n",
            "Epoch 51/100\n",
            "4/4 [==============================] - 0s 24ms/step - loss: 0.4439 - accuracy: 0.7742 - val_loss: 0.6159 - val_accuracy: 0.6481\n",
            "Epoch 52/100\n",
            "4/4 [==============================] - 0s 20ms/step - loss: 0.4875 - accuracy: 0.7742 - val_loss: 0.4675 - val_accuracy: 0.8148\n",
            "Epoch 53/100\n",
            "4/4 [==============================] - 0s 22ms/step - loss: 0.4525 - accuracy: 0.8468 - val_loss: 0.4333 - val_accuracy: 0.8148\n",
            "Epoch 54/100\n",
            "4/4 [==============================] - 0s 22ms/step - loss: 0.4779 - accuracy: 0.7742 - val_loss: 0.5246 - val_accuracy: 0.7778\n",
            "Epoch 55/100\n",
            "4/4 [==============================] - 0s 17ms/step - loss: 0.4838 - accuracy: 0.7258 - val_loss: 0.5966 - val_accuracy: 0.7222\n",
            "Epoch 56/100\n",
            "4/4 [==============================] - 0s 21ms/step - loss: 0.4808 - accuracy: 0.8387 - val_loss: 0.4039 - val_accuracy: 0.8704\n",
            "Epoch 57/100\n",
            "4/4 [==============================] - 0s 22ms/step - loss: 0.4148 - accuracy: 0.8468 - val_loss: 0.6455 - val_accuracy: 0.7037\n",
            "Epoch 58/100\n",
            "4/4 [==============================] - 0s 17ms/step - loss: 0.4857 - accuracy: 0.7823 - val_loss: 0.4688 - val_accuracy: 0.7593\n",
            "Epoch 59/100\n",
            "4/4 [==============================] - 0s 17ms/step - loss: 0.5539 - accuracy: 0.7661 - val_loss: 0.5496 - val_accuracy: 0.8333\n",
            "Epoch 60/100\n",
            "4/4 [==============================] - 0s 22ms/step - loss: 0.4971 - accuracy: 0.7500 - val_loss: 0.5755 - val_accuracy: 0.6852\n",
            "Epoch 61/100\n",
            "4/4 [==============================] - 0s 24ms/step - loss: 0.5692 - accuracy: 0.7097 - val_loss: 0.4211 - val_accuracy: 0.8704\n",
            "Epoch 62/100\n",
            "4/4 [==============================] - 0s 23ms/step - loss: 0.6099 - accuracy: 0.6935 - val_loss: 0.7361 - val_accuracy: 0.7037\n",
            "Epoch 63/100\n",
            "4/4 [==============================] - 0s 17ms/step - loss: 0.6434 - accuracy: 0.7339 - val_loss: 0.3859 - val_accuracy: 0.8889\n",
            "Epoch 64/100\n",
            "4/4 [==============================] - 0s 23ms/step - loss: 0.4425 - accuracy: 0.7984 - val_loss: 0.5844 - val_accuracy: 0.7037\n",
            "Epoch 65/100\n",
            "4/4 [==============================] - 0s 18ms/step - loss: 0.4878 - accuracy: 0.7661 - val_loss: 0.4317 - val_accuracy: 0.8148\n",
            "Epoch 66/100\n",
            "4/4 [==============================] - 0s 18ms/step - loss: 0.4341 - accuracy: 0.8790 - val_loss: 0.3938 - val_accuracy: 0.9259\n",
            "Epoch 67/100\n",
            "4/4 [==============================] - 0s 23ms/step - loss: 0.4092 - accuracy: 0.8710 - val_loss: 0.3679 - val_accuracy: 0.9630\n",
            "Epoch 68/100\n",
            "4/4 [==============================] - 0s 23ms/step - loss: 0.4247 - accuracy: 0.8468 - val_loss: 0.4714 - val_accuracy: 0.8148\n",
            "Epoch 69/100\n",
            "4/4 [==============================] - 0s 24ms/step - loss: 0.4220 - accuracy: 0.8226 - val_loss: 0.3812 - val_accuracy: 0.9444\n",
            "Epoch 70/100\n",
            "4/4 [==============================] - 0s 18ms/step - loss: 0.3843 - accuracy: 0.8468 - val_loss: 0.6438 - val_accuracy: 0.7593\n",
            "Epoch 71/100\n",
            "4/4 [==============================] - 0s 18ms/step - loss: 0.5209 - accuracy: 0.8065 - val_loss: 0.5663 - val_accuracy: 0.8333\n",
            "Epoch 72/100\n",
            "4/4 [==============================] - 0s 23ms/step - loss: 0.6193 - accuracy: 0.7903 - val_loss: 1.1730 - val_accuracy: 0.6111\n",
            "Epoch 73/100\n",
            "4/4 [==============================] - 0s 26ms/step - loss: 0.6430 - accuracy: 0.7823 - val_loss: 0.6965 - val_accuracy: 0.7778\n",
            "Epoch 74/100\n",
            "4/4 [==============================] - 0s 24ms/step - loss: 0.6643 - accuracy: 0.7661 - val_loss: 0.6432 - val_accuracy: 0.7778\n",
            "Epoch 75/100\n",
            "4/4 [==============================] - 0s 24ms/step - loss: 0.5797 - accuracy: 0.7823 - val_loss: 0.4583 - val_accuracy: 0.7778\n",
            "Epoch 76/100\n",
            "4/4 [==============================] - 0s 23ms/step - loss: 0.4444 - accuracy: 0.8226 - val_loss: 0.5887 - val_accuracy: 0.8333\n",
            "Epoch 77/100\n",
            "4/4 [==============================] - 0s 23ms/step - loss: 0.5223 - accuracy: 0.7742 - val_loss: 0.5015 - val_accuracy: 0.7222\n",
            "Epoch 78/100\n",
            "4/4 [==============================] - 0s 24ms/step - loss: 0.5927 - accuracy: 0.7500 - val_loss: 0.5642 - val_accuracy: 0.7963\n",
            "Epoch 79/100\n",
            "4/4 [==============================] - 0s 17ms/step - loss: 0.4424 - accuracy: 0.8226 - val_loss: 0.4807 - val_accuracy: 0.7778\n",
            "Epoch 80/100\n",
            "4/4 [==============================] - 0s 22ms/step - loss: 0.4909 - accuracy: 0.8306 - val_loss: 0.6894 - val_accuracy: 0.6667\n",
            "Epoch 81/100\n",
            "4/4 [==============================] - 0s 22ms/step - loss: 0.7108 - accuracy: 0.6694 - val_loss: 0.3494 - val_accuracy: 0.8889\n",
            "Epoch 82/100\n",
            "4/4 [==============================] - 0s 18ms/step - loss: 0.8347 - accuracy: 0.6935 - val_loss: 0.5065 - val_accuracy: 0.7593\n",
            "Epoch 83/100\n",
            "4/4 [==============================] - 0s 13ms/step - loss: 1.0615 - accuracy: 0.6371 - val_loss: 1.0858 - val_accuracy: 0.6296\n",
            "Epoch 84/100\n",
            "4/4 [==============================] - 0s 12ms/step - loss: 0.8762 - accuracy: 0.6774 - val_loss: 0.6322 - val_accuracy: 0.6667\n",
            "Epoch 85/100\n",
            "4/4 [==============================] - 0s 13ms/step - loss: 0.8839 - accuracy: 0.6452 - val_loss: 0.5404 - val_accuracy: 0.7963\n",
            "Epoch 86/100\n",
            "4/4 [==============================] - 0s 19ms/step - loss: 0.8105 - accuracy: 0.6855 - val_loss: 0.4486 - val_accuracy: 0.8333\n",
            "Epoch 87/100\n",
            "4/4 [==============================] - 0s 20ms/step - loss: 0.5647 - accuracy: 0.7661 - val_loss: 0.6520 - val_accuracy: 0.6667\n",
            "Epoch 88/100\n",
            "4/4 [==============================] - 0s 19ms/step - loss: 0.5765 - accuracy: 0.7742 - val_loss: 0.4884 - val_accuracy: 0.8148\n",
            "Epoch 89/100\n",
            "4/4 [==============================] - 0s 13ms/step - loss: 0.5292 - accuracy: 0.8629 - val_loss: 0.3359 - val_accuracy: 0.9630\n",
            "Epoch 90/100\n",
            "4/4 [==============================] - 0s 18ms/step - loss: 0.4138 - accuracy: 0.8387 - val_loss: 0.5771 - val_accuracy: 0.7963\n",
            "Epoch 91/100\n",
            "4/4 [==============================] - 0s 32ms/step - loss: 0.4291 - accuracy: 0.8548 - val_loss: 0.3600 - val_accuracy: 0.9444\n",
            "Epoch 92/100\n",
            "4/4 [==============================] - 0s 25ms/step - loss: 0.3654 - accuracy: 0.8952 - val_loss: 0.4661 - val_accuracy: 0.7778\n",
            "Epoch 93/100\n",
            "4/4 [==============================] - 0s 27ms/step - loss: 0.3615 - accuracy: 0.9194 - val_loss: 0.3128 - val_accuracy: 0.9630\n",
            "Epoch 94/100\n",
            "4/4 [==============================] - 0s 25ms/step - loss: 0.3692 - accuracy: 0.8548 - val_loss: 0.5310 - val_accuracy: 0.7407\n",
            "Epoch 95/100\n",
            "4/4 [==============================] - 0s 36ms/step - loss: 0.3604 - accuracy: 0.8710 - val_loss: 0.3607 - val_accuracy: 0.8333\n",
            "Epoch 96/100\n",
            "4/4 [==============================] - 0s 26ms/step - loss: 0.3265 - accuracy: 0.8952 - val_loss: 0.3692 - val_accuracy: 0.8704\n",
            "Epoch 97/100\n",
            "4/4 [==============================] - 0s 24ms/step - loss: 0.4118 - accuracy: 0.8710 - val_loss: 0.3067 - val_accuracy: 0.9630\n",
            "Epoch 98/100\n",
            "4/4 [==============================] - 0s 21ms/step - loss: 0.3422 - accuracy: 0.9274 - val_loss: 0.3344 - val_accuracy: 0.9074\n",
            "Epoch 99/100\n",
            "4/4 [==============================] - 0s 25ms/step - loss: 0.3774 - accuracy: 0.8468 - val_loss: 0.4894 - val_accuracy: 0.7963\n",
            "Epoch 100/100\n",
            "4/4 [==============================] - 0s 27ms/step - loss: 0.3084 - accuracy: 0.8629 - val_loss: 0.3131 - val_accuracy: 0.9074\n"
          ]
        }
      ],
      "source": [
        "history = model.fit(X_train, Y_train, epochs= 100, validation_data=(X_test,Y_test))"
      ]
    },
    {
      "cell_type": "markdown",
      "source": [
        "# Plotting the output epochs vs accuracy and validation accuracy"
      ],
      "metadata": {
        "id": "1oqonC1DUYGG"
      }
    },
    {
      "cell_type": "code",
      "source": [
        "plt.plot(history.history['accuracy'], label = 'Accuracy')\n",
        "plt.plot(history.history['val_accuracy'], label = 'Validation Accuracy')\n",
        "xlabel = 'Epochs'\n",
        "ylabel = 'Accuracy'\n",
        "plt.show()"
      ],
      "metadata": {
        "colab": {
          "base_uri": "https://localhost:8080/",
          "height": 430
        },
        "id": "6oFfyKqcc7zT",
        "outputId": "62b834cb-0f52-48e4-f60a-aac479e0bfed"
      },
      "execution_count": null,
      "outputs": [
        {
          "output_type": "display_data",
          "data": {
            "text/plain": [
              "<Figure size 640x480 with 1 Axes>"
            ],
            "image/png": "[encoded data removed]"
          },
          "metadata": {}
        }
      ]
    },
    {
      "cell_type": "markdown",
      "source": [
        "# Graph of eochs vs loss"
      ],
      "metadata": {
        "id": "srsDyjj0Upu9"
      }
    },
    {
      "cell_type": "code",
      "source": [
        "plt.plot(history.history['loss'], label = 'loss')\n",
        "# plt.plot(history.history['val_accuracy'], label = 'Validation Accuracy')\n",
        "xlabel = 'Epochs'\n",
        "ylabel = 'loss'\n",
        "plt.show()"
      ],
      "metadata": {
        "colab": {
          "base_uri": "https://localhost:8080/",
          "height": 430
        },
        "id": "eU7RDdFadOVh",
        "outputId": "c8a7633e-5ed4-4b25-ffca-79f0ea226134"
      },
      "execution_count": null,
      "outputs": [
        {
          "output_type": "display_data",
          "data": {
            "text/plain": [
              "<Figure size 640x480 with 1 Axes>"
            ],
            "image/png": "[encoded data removed]"
          },
          "metadata": {}
        }
      ]
    },
    {
      "cell_type": "code",
      "source": [],
      "metadata": {
        "id": "WvxAVKE4dPEa"
      },
      "execution_count": null,
      "outputs": []
    }
  ],
  "metadata": {
    "colab": {
      "provenance": [],
      "authorship_tag": "ABX9TyMTCQGbnrsAxSvB5FxXEpKR",
      "include_colab_link": true
    },
    "kernelspec": {
      "display_name": "Python 3",
      "name": "python3"
    },
    "language_info": {
      "name": "python"
    }
  },
  "nbformat": 4,
  "nbformat_minor": 0
}